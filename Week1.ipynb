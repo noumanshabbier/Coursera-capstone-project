{
    "cells": [
        {
            "cell_type": "markdown",
            "metadata": {
                "collapsed": true
            },
            "source": "# Question 1: A description of the problem and a discussion of the background. (15 marks)"
        },
        {
            "cell_type": "markdown",
            "metadata": {},
            "source": "__Description of the Problem:__\n\n    Resource Management is one of the crucial role for all managers and executives. Especially in big companies where it is very instrumental to justify the utilization of each resource. Therefore, my subject problem  is relating to anticipate the following attributes which will help managers to forsee the resource activities, and it will help them to plan resources well advance.\n    \n    1. Resource Efficiency\n    2. Work Category Efficiency\n    3. Projects Evaluation\n    4. Leaves Calculation\n    5. Best Resource\n    6. Best Project\n    7. Best Timeline\n    \n    Most of the managers don't have in hand infomration if company where they are working is not fully equipped with required Data Analytics Tools. Therefore, managers face problems to take important decision relating to and business and resource development."
        },
        {
            "cell_type": "markdown",
            "metadata": {},
            "source": "__Background of the Problem:__\n\n    1. Resource management largely help to execute business, and to give heads up for the required skill set which will be a competitve edge for any team. If manager already come to know what type of business his/her employer will be getting in next few months to come, then he will get his/her team trained for the required jobs. Before hand training will increase the likelihood of getting more business, and qualified persons for different jobs wil be available in resorce pool. \n    \n    2. Motivation is another important aspect which will keep resources contented and they will be working with full devoation and dedication. As a result of this productivity will increase. Data Analytics of resource efficiency will result the best resource, and performance of all resources will be ordered in descending order based on the tasks which were delegated to them. This way managers will have in hand information to reward employees after every quarter or year.\n    \n    3. Utilization of resources will also help managers to add resource if work load is higher than anticipated, or sublet resources to other departements if workload is exceeding the available worforce. This sort of analytics will help managers to effectively utilize available resources without keeping resource idle.\n    \n    4. Leave management is another area where managers have to ensure whether a minimum number of resources will be available at the time to business crunch time. Especially at the end of year when most of the employees intend to go on leaves. This will help managers to distribute leaves across the year, and in such a way that every resource will go on leaves on alternate years in December.\n    \n    5. Logged hours on each project can also potray which project was mostly profitable as the number of hours log in projects regarded as revenue. So managers will always be interested in those projects which are generating a larger chunk of revenue. Same can be done for resource, and timelines, and it will distinguish best resource and timeslots from ordinary ones.\n    \n    "
        },
        {
            "cell_type": "markdown",
            "metadata": {},
            "source": "---"
        },
        {
            "cell_type": "markdown",
            "metadata": {},
            "source": "# 2. A description of the data and how it will be used to solve the problem. (15 marks)"
        },
        {
            "cell_type": "markdown",
            "metadata": {},
            "source": "__Description of the Data:__\n\n    1. Timesheets are usually logged by each employee on daily basis, and those time sheets are merged on main servers on daily basis. After a week or a month, ax excel macro enabled sheet combines data of all resources, and macro saves one sheet including all resouces for each month. Thus, timesheet data is available in structured form.\n    \n    2. The data is then manipulated by using advance Python algorithms and different libraries. Used tools in resource managemnt are listed below;\n        \n       a. Pandas Data Frame:\n       b. Numpy\n       c. scikit learn\n       d. matplot library\n       e. machine learning models to categorized resources, projects, and work categories \n       \n     Below in next cells are the features of data used to address te problems in Question 1.\n     \n       \n    All above libraries and tools largely helped me to solve the problems as describe in Question 1. Few of the snapshots of required plots are shown below;"
        },
        {
            "cell_type": "markdown",
            "metadata": {},
            "source": "__Features of Data Used:__\n    <img src = \"https://drive.google.com/uc?export=view&id=1mL998S-ruZtAzrLO7S9mKCBJbj1I8gc-\" align=\"left\" width=90000>"
        },
        {
            "cell_type": "markdown",
            "metadata": {},
            "source": "<img src = \"https://drive.google.com/uc?export=view&id=13nY09Jfi42c0Pn-Npj8wZKN0VLIXoSmr\" align=\"left\" width=90000>"
        },
        {
            "cell_type": "markdown",
            "metadata": {},
            "source": "<img src = \"https://drive.google.com/uc?export=view&id=1-dJSg-yphK1IEhf6byM1hf7q5Vr0rSDi\" align=\"left\" width=90000>"
        },
        {
            "cell_type": "markdown",
            "metadata": {},
            "source": "<img src = \"https://drive.google.com/uc?export=view&id=1a7j8n1v45JplKuqGYxVtUC_UaYbNWfTJ\" align=\"left\" width=90000>"
        },
        {
            "cell_type": "markdown",
            "metadata": {},
            "source": "<img src = \"https://drive.google.com/uc?export=view&id=1Je4rl3BgvRQkMZRr_2W_GWiQvV6a-JAs\" align=\"left\" width=90000>"
        },
        {
            "cell_type": "markdown",
            "metadata": {},
            "source": "<img src = \"https://drive.google.com/uc?export=view&id=1zNtKTYkeDcWaG4CpaJvTMvFGnMGJnDKR\" align=\"left\" width=90000>"
        },
        {
            "cell_type": "markdown",
            "metadata": {},
            "source": "<img src = \"https://drive.google.com/uc?export=view&id=1wkdzdMa6_5VPDogl6n3yV6dwAsozygGX\" align=\"left\" width=90000>"
        }
    ],
    "metadata": {
        "kernelspec": {
            "display_name": "Python 3.6",
            "language": "python",
            "name": "python3"
        },
        "language_info": {
            "codemirror_mode": {
                "name": "ipython",
                "version": 3
            },
            "file_extension": ".py",
            "mimetype": "text/x-python",
            "name": "python",
            "nbconvert_exporter": "python",
            "pygments_lexer": "ipython3",
            "version": "3.6.9"
        }
    },
    "nbformat": 4,
    "nbformat_minor": 1
}